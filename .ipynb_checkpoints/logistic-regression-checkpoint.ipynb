{
 "cells": [
  {
   "cell_type": "markdown",
   "metadata": {},
   "source": [
    "# Logistic Regression"
   ]
  },
  {
   "cell_type": "code",
   "execution_count": 1,
   "metadata": {
    "ExecuteTime": {
     "end_time": "2019-08-14T16:24:22.365421Z",
     "start_time": "2019-08-14T16:24:21.534393Z"
    }
   },
   "outputs": [],
   "source": [
    "import warnings\n",
    "warnings.filterwarnings('ignore')\n",
    "import numpy as np\n",
    "import pandas as pd\n",
    "import matplotlib.pyplot as plt\n",
    "import seaborn as sns\n",
    "from sklearn.datasets import load_breast_cancer"
   ]
  },
  {
   "cell_type": "markdown",
   "metadata": {},
   "source": [
    "### Load Data"
   ]
  },
  {
   "cell_type": "code",
   "execution_count": 2,
   "metadata": {
    "ExecuteTime": {
     "end_time": "2019-08-14T16:24:22.394220Z",
     "start_time": "2019-08-14T16:24:22.384205Z"
    }
   },
   "outputs": [],
   "source": [
    "data=load_breast_cancer()"
   ]
  },
  {
   "cell_type": "code",
   "execution_count": 3,
   "metadata": {
    "ExecuteTime": {
     "end_time": "2019-08-14T16:24:22.676605Z",
     "start_time": "2019-08-14T16:24:22.418502Z"
    }
   },
   "outputs": [],
   "source": [
    "train_data=data.data"
   ]
  },
  {
   "cell_type": "code",
   "execution_count": 4,
   "metadata": {
    "ExecuteTime": {
     "end_time": "2019-08-14T16:24:22.746845Z",
     "start_time": "2019-08-14T16:24:22.704623Z"
    }
   },
   "outputs": [],
   "source": [
    "Y=data.target"
   ]
  },
  {
   "cell_type": "code",
   "execution_count": 5,
   "metadata": {
    "ExecuteTime": {
     "end_time": "2019-08-14T16:24:22.815661Z",
     "start_time": "2019-08-14T16:24:22.808519Z"
    }
   },
   "outputs": [
    {
     "data": {
      "text/plain": [
       "array(['malignant', 'benign'], dtype='<U9')"
      ]
     },
     "execution_count": 5,
     "metadata": {},
     "output_type": "execute_result"
    }
   ],
   "source": [
    "data.target_names"
   ]
  },
  {
   "cell_type": "markdown",
   "metadata": {},
   "source": [
    "### Normalize Data"
   ]
  },
  {
   "cell_type": "code",
   "execution_count": 6,
   "metadata": {
    "ExecuteTime": {
     "end_time": "2019-08-14T16:24:22.879764Z",
     "start_time": "2019-08-14T16:24:22.867348Z"
    }
   },
   "outputs": [],
   "source": [
    "from sklearn.preprocessing import MinMaxScaler\n",
    "scaler=MinMaxScaler()\n",
    "train_data=scaler.fit_transform(train_data)"
   ]
  },
  {
   "cell_type": "markdown",
   "metadata": {},
   "source": [
    "### Train-Test Split"
   ]
  },
  {
   "cell_type": "code",
   "execution_count": 7,
   "metadata": {
    "ExecuteTime": {
     "end_time": "2019-08-14T16:24:23.197629Z",
     "start_time": "2019-08-14T16:24:23.181056Z"
    }
   },
   "outputs": [
    {
     "data": {
      "text/plain": [
       "(380, 30)"
      ]
     },
     "execution_count": 7,
     "metadata": {},
     "output_type": "execute_result"
    }
   ],
   "source": [
    "X_train=train_data[:380]\n",
    "X_train.shape"
   ]
  },
  {
   "cell_type": "code",
   "execution_count": 8,
   "metadata": {
    "ExecuteTime": {
     "end_time": "2019-08-14T16:24:23.312009Z",
     "start_time": "2019-08-14T16:24:23.307556Z"
    }
   },
   "outputs": [
    {
     "data": {
      "text/plain": [
       "(189, 30)"
      ]
     },
     "execution_count": 8,
     "metadata": {},
     "output_type": "execute_result"
    }
   ],
   "source": [
    "X_test=train_data[380:]\n",
    "X_test.shape"
   ]
  },
  {
   "cell_type": "code",
   "execution_count": 9,
   "metadata": {
    "ExecuteTime": {
     "end_time": "2019-08-14T16:24:23.476985Z",
     "start_time": "2019-08-14T16:24:23.465986Z"
    }
   },
   "outputs": [
    {
     "data": {
      "text/plain": [
       "(380,)"
      ]
     },
     "execution_count": 9,
     "metadata": {},
     "output_type": "execute_result"
    }
   ],
   "source": [
    "y_train=Y[:380]\n",
    "y_train.shape"
   ]
  },
  {
   "cell_type": "code",
   "execution_count": 10,
   "metadata": {
    "ExecuteTime": {
     "end_time": "2019-08-14T16:24:24.000779Z",
     "start_time": "2019-08-14T16:24:23.992325Z"
    }
   },
   "outputs": [
    {
     "data": {
      "text/plain": [
       "(189,)"
      ]
     },
     "execution_count": 10,
     "metadata": {},
     "output_type": "execute_result"
    }
   ],
   "source": [
    "y_test=Y[380:]\n",
    "y_test.shape"
   ]
  },
  {
   "cell_type": "markdown",
   "metadata": {},
   "source": [
    "## Logistic Regression using sklearn"
   ]
  },
  {
   "cell_type": "code",
   "execution_count": 11,
   "metadata": {
    "ExecuteTime": {
     "end_time": "2019-08-14T16:24:24.635058Z",
     "start_time": "2019-08-14T16:24:24.593344Z"
    }
   },
   "outputs": [],
   "source": [
    "from sklearn.linear_model import LogisticRegression"
   ]
  },
  {
   "cell_type": "markdown",
   "metadata": {},
   "source": [
    "### Train Model"
   ]
  },
  {
   "cell_type": "code",
   "execution_count": 12,
   "metadata": {
    "ExecuteTime": {
     "end_time": "2019-08-14T16:24:25.326807Z",
     "start_time": "2019-08-14T16:24:25.320383Z"
    }
   },
   "outputs": [],
   "source": [
    "lm=LogisticRegression(fit_intercept=False)"
   ]
  },
  {
   "cell_type": "code",
   "execution_count": 13,
   "metadata": {
    "ExecuteTime": {
     "end_time": "2019-08-14T16:24:25.919139Z",
     "start_time": "2019-08-14T16:24:25.889216Z"
    }
   },
   "outputs": [
    {
     "data": {
      "text/plain": [
       "LogisticRegression(C=1.0, class_weight=None, dual=False, fit_intercept=False,\n",
       "                   intercept_scaling=1, l1_ratio=None, max_iter=100,\n",
       "                   multi_class='warn', n_jobs=None, penalty='l2',\n",
       "                   random_state=None, solver='warn', tol=0.0001, verbose=0,\n",
       "                   warm_start=False)"
      ]
     },
     "execution_count": 13,
     "metadata": {},
     "output_type": "execute_result"
    }
   ],
   "source": [
    "lm.fit(X_train,y_train)"
   ]
  },
  {
   "cell_type": "markdown",
   "metadata": {},
   "source": [
    "### Coefficeints/Weights"
   ]
  },
  {
   "cell_type": "code",
   "execution_count": 14,
   "metadata": {
    "ExecuteTime": {
     "end_time": "2019-08-14T16:24:26.791621Z",
     "start_time": "2019-08-14T16:24:26.779256Z"
    }
   },
   "outputs": [
    {
     "data": {
      "text/plain": [
       "array([[ 1.18012651,  0.16838423,  0.87106477, -0.32247735,  2.01495119,\n",
       "        -1.10152114, -2.60168126, -3.3868125 ,  2.05962632,  2.47290064,\n",
       "        -1.40445823,  1.01463813, -1.1878083 , -1.12317862,  1.34252007,\n",
       "         0.65780015,  0.7035881 ,  1.01039572,  1.27763472,  0.80675615,\n",
       "        -0.60800893, -0.54466606, -0.70981564, -1.33833327,  0.64965802,\n",
       "        -1.24525448, -1.4301219 , -2.25177136,  0.0098919 , -0.08941306]])"
      ]
     },
     "execution_count": 14,
     "metadata": {},
     "output_type": "execute_result"
    }
   ],
   "source": [
    "lm.coef_"
   ]
  },
  {
   "cell_type": "markdown",
   "metadata": {},
   "source": [
    "### Testing Model"
   ]
  },
  {
   "cell_type": "code",
   "execution_count": 15,
   "metadata": {
    "ExecuteTime": {
     "end_time": "2019-08-14T16:24:34.944069Z",
     "start_time": "2019-08-14T16:24:34.930071Z"
    }
   },
   "outputs": [],
   "source": [
    "y_pred_train=lm.predict(X_train)\n",
    "y_pred_test=lm.predict(X_test)"
   ]
  },
  {
   "cell_type": "code",
   "execution_count": 16,
   "metadata": {
    "ExecuteTime": {
     "end_time": "2019-08-14T16:24:35.605073Z",
     "start_time": "2019-08-14T16:24:35.235022Z"
    }
   },
   "outputs": [],
   "source": [
    "from sklearn import metrics"
   ]
  },
  {
   "cell_type": "markdown",
   "metadata": {},
   "source": [
    "### Log-Loss"
   ]
  },
  {
   "cell_type": "code",
   "execution_count": 17,
   "metadata": {
    "ExecuteTime": {
     "end_time": "2019-08-14T16:24:36.154525Z",
     "start_time": "2019-08-14T16:24:35.665840Z"
    }
   },
   "outputs": [
    {
     "name": "stdout",
     "output_type": "stream",
     "text": [
      "Train error 2.9085601015752505\n",
      "Test error 4.385884828956174\n"
     ]
    }
   ],
   "source": [
    "print(\"Train error\",metrics.log_loss(y_train, y_pred_train))\n",
    "print(\"Test error\",metrics.log_loss(y_test, y_pred_test))"
   ]
  },
  {
   "cell_type": "markdown",
   "metadata": {},
   "source": [
    "## Logistic Regression from Scratch"
   ]
  },
  {
   "cell_type": "markdown",
   "metadata": {},
   "source": [
    "## Steps:\n",
    "- Define hypothesis\n",
    "- Choose loss(here log loss)\n",
    "- Define Cost Function"
   ]
  },
  {
   "cell_type": "markdown",
   "metadata": {},
   "source": [
    "### Initializing Weights"
   ]
  },
  {
   "cell_type": "code",
   "execution_count": 93,
   "metadata": {
    "ExecuteTime": {
     "end_time": "2019-08-14T16:30:53.207171Z",
     "start_time": "2019-08-14T16:30:53.195742Z"
    }
   },
   "outputs": [],
   "source": [
    "weights=np.zeros(X_train.shape[1])"
   ]
  },
  {
   "cell_type": "markdown",
   "metadata": {},
   "source": [
    "### Hypothesis"
   ]
  },
  {
   "cell_type": "code",
   "execution_count": 94,
   "metadata": {
    "ExecuteTime": {
     "end_time": "2019-08-14T16:30:53.614300Z",
     "start_time": "2019-08-14T16:30:53.606002Z"
    }
   },
   "outputs": [],
   "source": [
    "def hypothesis(x,w):\n",
    "    return np.dot(x,w)"
   ]
  },
  {
   "cell_type": "code",
   "execution_count": 95,
   "metadata": {
    "ExecuteTime": {
     "end_time": "2019-08-14T16:30:53.811268Z",
     "start_time": "2019-08-14T16:30:53.796227Z"
    }
   },
   "outputs": [],
   "source": [
    "def sigmoid(x,w):\n",
    "    k=hypothesis(x,w)\n",
    "    return 1/(1+np.exp(-k))"
   ]
  },
  {
   "cell_type": "markdown",
   "metadata": {},
   "source": [
    "### Cost Function"
   ]
  },
  {
   "cell_type": "code",
   "execution_count": 96,
   "metadata": {
    "ExecuteTime": {
     "end_time": "2019-08-14T16:30:54.246916Z",
     "start_time": "2019-08-14T16:30:54.237205Z"
    }
   },
   "outputs": [],
   "source": [
    "def cost_function(x,y,w):\n",
    "    scores = hypothesis(x,w)\n",
    "    ll = np.sum( y*scores - np.log(1 + np.exp(scores)))\n",
    "    return ll"
   ]
  },
  {
   "cell_type": "code",
   "execution_count": 97,
   "metadata": {
    "ExecuteTime": {
     "end_time": "2019-08-14T16:30:54.700344Z",
     "start_time": "2019-08-14T16:30:54.670029Z"
    }
   },
   "outputs": [
    {
     "data": {
      "text/plain": [
       "-161730.7559299912"
      ]
     },
     "execution_count": 97,
     "metadata": {},
     "output_type": "execute_result"
    }
   ],
   "source": [
    "cost_function(X_train,y_train,lm.coef_.reshape(30,-1))"
   ]
  },
  {
   "cell_type": "markdown",
   "metadata": {},
   "source": [
    "### Derivative of Cost Function"
   ]
  },
  {
   "cell_type": "code",
   "execution_count": 98,
   "metadata": {
    "ExecuteTime": {
     "end_time": "2019-08-14T16:30:55.683288Z",
     "start_time": "2019-08-14T16:30:55.666238Z"
    }
   },
   "outputs": [],
   "source": [
    "def derivative(x,y,w):\n",
    "    predictions = sigmoid(x,w)\n",
    "    output_error_signal = y - predictions \n",
    "    gradient = np.dot(x.T, output_error_signal)\n",
    "    return gradient"
   ]
  },
  {
   "cell_type": "markdown",
   "metadata": {},
   "source": [
    "### Gradient Descent"
   ]
  },
  {
   "cell_type": "code",
   "execution_count": 99,
   "metadata": {
    "ExecuteTime": {
     "end_time": "2019-08-14T16:30:56.702185Z",
     "start_time": "2019-08-14T16:30:56.677087Z"
    }
   },
   "outputs": [],
   "source": [
    "def gradient_descent(x,y,w,alpha=0.000001):\n",
    "    for i in range(100001):\n",
    "        gradient=derivative(x,y,w)\n",
    "        w=w-alpha*gradient\n",
    "        if i%20000==0:\n",
    "            print('Epoch=',i,'error=',cost_function(x,y,w))\n",
    "    return w"
   ]
  },
  {
   "cell_type": "markdown",
   "metadata": {},
   "source": [
    "### Predicting Values"
   ]
  },
  {
   "cell_type": "code",
   "execution_count": 100,
   "metadata": {
    "ExecuteTime": {
     "end_time": "2019-08-14T16:30:57.569367Z",
     "start_time": "2019-08-14T16:30:57.555272Z"
    }
   },
   "outputs": [
    {
     "ename": "SyntaxError",
     "evalue": "invalid syntax (<ipython-input-100-fad75d4d0a9d>, line 4)",
     "output_type": "error",
     "traceback": [
      "\u001b[0;36m  File \u001b[0;32m\"<ipython-input-100-fad75d4d0a9d>\"\u001b[0;36m, line \u001b[0;32m4\u001b[0m\n\u001b[0;31m    y=x[i]*w[]\u001b[0m\n\u001b[0m             ^\u001b[0m\n\u001b[0;31mSyntaxError\u001b[0m\u001b[0;31m:\u001b[0m invalid syntax\n"
     ]
    }
   ],
   "source": [
    "def predict(x,w):\n",
    "    yhat=[]\n",
    "    for i in range(x.shape[0]):\n",
    "        y=x[i]*w[]\n",
    "        if y<0.5:\n",
    "            yhat.append(0)\n",
    "        else:\n",
    "            yhat.append(1)\n",
    "        return yhat"
   ]
  },
  {
   "cell_type": "markdown",
   "metadata": {},
   "source": [
    "### Train Model"
   ]
  },
  {
   "cell_type": "code",
   "execution_count": null,
   "metadata": {
    "ExecuteTime": {
     "start_time": "2019-08-14T16:30:58.416Z"
    }
   },
   "outputs": [
    {
     "name": "stdout",
     "output_type": "stream",
     "text": [
      "Epoch= 0 error= -263.40042973983424\n",
      "Epoch= 200000 error= -20906.540605197697\n"
     ]
    }
   ],
   "source": [
    "weights=gradient_descent(X_train,y_train,weights)"
   ]
  },
  {
   "cell_type": "markdown",
   "metadata": {},
   "source": [
    "### Coefficients"
   ]
  },
  {
   "cell_type": "markdown",
   "metadata": {},
   "source": [
    "#### Coefficients(Linear Regression from Scratch)"
   ]
  },
  {
   "cell_type": "code",
   "execution_count": 82,
   "metadata": {
    "ExecuteTime": {
     "end_time": "2019-08-14T16:30:12.220191Z",
     "start_time": "2019-08-14T16:30:12.208178Z"
    }
   },
   "outputs": [
    {
     "data": {
      "text/plain": [
       "array([ 81.77252297,  66.05016937,  81.48995926,  57.97979441,\n",
       "        76.34297788,  64.60227114,  61.62405952,  72.28315281,\n",
       "        74.4833268 ,  45.32865566,  29.75641719,  30.92077803,\n",
       "        27.73215973,  19.97896326,  28.73656654,  37.7844054 ,\n",
       "        17.26982738,  46.89478529,  30.85850439,  18.22270472,\n",
       "        78.06189698,  76.59047588,  75.11422   ,  50.29969197,\n",
       "        82.62294264,  57.07690018,  59.44177454, 104.61324968,\n",
       "        57.39672525,  40.79777713])"
      ]
     },
     "execution_count": 82,
     "metadata": {},
     "output_type": "execute_result"
    }
   ],
   "source": [
    "weights"
   ]
  },
  {
   "cell_type": "markdown",
   "metadata": {
    "ExecuteTime": {
     "end_time": "2019-08-14T14:47:59.817940Z",
     "start_time": "2019-08-14T14:47:59.810331Z"
    }
   },
   "source": [
    "#### Coefficients(Linear Regression using sklearn)"
   ]
  },
  {
   "cell_type": "code",
   "execution_count": 83,
   "metadata": {
    "ExecuteTime": {
     "end_time": "2019-08-14T16:30:13.554027Z",
     "start_time": "2019-08-14T16:30:13.541754Z"
    }
   },
   "outputs": [
    {
     "name": "stdout",
     "output_type": "stream",
     "text": [
      "[[ 1.18012651  0.16838423  0.87106477 -0.32247735  2.01495119 -1.10152114\n",
      "  -2.60168126 -3.3868125   2.05962632  2.47290064 -1.40445823  1.01463813\n",
      "  -1.1878083  -1.12317862  1.34252007  0.65780015  0.7035881   1.01039572\n",
      "   1.27763472  0.80675615 -0.60800893 -0.54466606 -0.70981564 -1.33833327\n",
      "   0.64965802 -1.24525448 -1.4301219  -2.25177136  0.0098919  -0.08941306]]\n"
     ]
    }
   ],
   "source": [
    "print(lm.coef_)"
   ]
  },
  {
   "cell_type": "markdown",
   "metadata": {},
   "source": [
    "### Testing Model"
   ]
  },
  {
   "cell_type": "code",
   "execution_count": null,
   "metadata": {
    "ExecuteTime": {
     "end_time": "2019-08-14T13:54:35.060924Z",
     "start_time": "2019-08-14T13:54:35.053452Z"
    }
   },
   "outputs": [],
   "source": [
    "def predict_scratch(X, theta, threshold=0.5):\n",
    "    return predict_probs(X, theta) >= threshold"
   ]
  },
  {
   "cell_type": "code",
   "execution_count": null,
   "metadata": {
    "ExecuteTime": {
     "end_time": "2019-08-14T08:27:49.397677Z",
     "start_time": "2019-08-14T08:27:49.232310Z"
    }
   },
   "outputs": [],
   "source": [
    "y_pred_train=predict(X_train,weights)"
   ]
  },
  {
   "cell_type": "code",
   "execution_count": null,
   "metadata": {
    "ExecuteTime": {
     "end_time": "2019-08-14T08:26:17.129590Z",
     "start_time": "2019-08-14T08:26:17.123508Z"
    }
   },
   "outputs": [],
   "source": [
    "y_pred_test=predict(X_test,weights)"
   ]
  },
  {
   "cell_type": "code",
   "execution_count": null,
   "metadata": {
    "ExecuteTime": {
     "end_time": "2019-08-14T08:26:17.666843Z",
     "start_time": "2019-08-14T08:26:17.412295Z"
    },
    "scrolled": true
   },
   "outputs": [],
   "source": [
    "print(\"Train error\",metrics.log_loss(y_train, y_pred_train))\n",
    "print(\"Test error\",metrics.log_loss(y_test, y_pred_test))"
   ]
  },
  {
   "cell_type": "markdown",
   "metadata": {},
   "source": [
    "# Inference"
   ]
  },
  {
   "cell_type": "markdown",
   "metadata": {},
   "source": [
    "- Weights calculated from both the models are almost same\n",
    "- RMSE of both the models are almost similar"
   ]
  },
  {
   "cell_type": "code",
   "execution_count": null,
   "metadata": {},
   "outputs": [],
   "source": [
    "def sigmoid(scores):\n",
    "    return 1 / (1 + np.exp(-scores))"
   ]
  },
  {
   "cell_type": "code",
   "execution_count": null,
   "metadata": {},
   "outputs": [],
   "source": [
    "def log_likelihood(features, target, weights):\n",
    "    scores = np.dot(features, weights)\n",
    "    ll = np.sum( target*scores - np.log(1 + np.exp(scores)) )\n",
    "    return ll"
   ]
  },
  {
   "cell_type": "code",
   "execution_count": null,
   "metadata": {},
   "outputs": [],
   "source": [
    "def logistic_regression(features, target, num_steps, learning_rate, add_intercept = False):\n",
    "    if add_intercept:\n",
    "        intercept = np.ones((features.shape[0], 1))\n",
    "        features = np.hstack((intercept, features))\n",
    "        \n",
    "    weights = np.zeros(features.shape[1])\n",
    "    \n",
    "    for step in range(num_steps):\n",
    "        scores = np.dot(features, weights)\n",
    "        predictions = sigmoid(scores)\n",
    "\n",
    "        # Update weights with log likelihood gradient\n",
    "        output_error_signal = target - predictions\n",
    "        \n",
    "        gradient = np.dot(features.T, output_error_signal)\n",
    "        weights += learning_rate * gradient\n",
    "\n",
    "        # Print log-likelihood every so often\n",
    "        if step % 10000 == 0:\n",
    "            print(log_likelihood(features, target, weights))\n",
    "        \n",
    "    return weights"
   ]
  },
  {
   "cell_type": "code",
   "execution_count": null,
   "metadata": {},
   "outputs": [],
   "source": [
    "weights = logistic_regression(simulated_separableish_features, simulated_labels,num_steps = 50000, learning_rate = 5e-5, add_intercept=False)"
   ]
  },
  {
   "cell_type": "code",
   "execution_count": null,
   "metadata": {},
   "outputs": [],
   "source": []
  },
  {
   "cell_type": "code",
   "execution_count": null,
   "metadata": {},
   "outputs": [],
   "source": []
  },
  {
   "cell_type": "code",
   "execution_count": null,
   "metadata": {},
   "outputs": [],
   "source": []
  }
 ],
 "metadata": {
  "kernelspec": {
   "display_name": "Python 3",
   "language": "python",
   "name": "python3"
  },
  "language_info": {
   "codemirror_mode": {
    "name": "ipython",
    "version": 3
   },
   "file_extension": ".py",
   "mimetype": "text/x-python",
   "name": "python",
   "nbconvert_exporter": "python",
   "pygments_lexer": "ipython3",
   "version": "3.7.3"
  },
  "toc": {
   "base_numbering": 1,
   "nav_menu": {},
   "number_sections": true,
   "sideBar": true,
   "skip_h1_title": false,
   "title_cell": "Table of Contents",
   "title_sidebar": "Contents",
   "toc_cell": false,
   "toc_position": {},
   "toc_section_display": true,
   "toc_window_display": false
  },
  "varInspector": {
   "cols": {
    "lenName": 16,
    "lenType": 16,
    "lenVar": 40
   },
   "kernels_config": {
    "python": {
     "delete_cmd_postfix": "",
     "delete_cmd_prefix": "del ",
     "library": "var_list.py",
     "varRefreshCmd": "print(var_dic_list())"
    },
    "r": {
     "delete_cmd_postfix": ") ",
     "delete_cmd_prefix": "rm(",
     "library": "var_list.r",
     "varRefreshCmd": "cat(var_dic_list()) "
    }
   },
   "types_to_exclude": [
    "module",
    "function",
    "builtin_function_or_method",
    "instance",
    "_Feature"
   ],
   "window_display": false
  }
 },
 "nbformat": 4,
 "nbformat_minor": 2
}
